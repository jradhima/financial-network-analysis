{
 "cells": [
  {
   "cell_type": "code",
   "execution_count": 1,
   "metadata": {},
   "outputs": [],
   "source": [
    "from requests_html import HTMLSession\n",
    "import pandas as pd\n",
    "import time"
   ]
  },
  {
   "cell_type": "code",
   "execution_count": 2,
   "metadata": {},
   "outputs": [],
   "source": [
    "# setup url with latest 13F filing uploads\n",
    "\n",
    "page = 1\n",
    "\n",
    "url = 'https://www.sec.gov/cgi-bin/current?'\n",
    "params = f\"q1={page}&q2=0&q3=13F-HR\""
   ]
  },
  {
   "cell_type": "code",
   "execution_count": 3,
   "metadata": {},
   "outputs": [],
   "source": [
    "# start session and download the 1st page as HTML\n",
    "\n",
    "session = HTMLSession()\n",
    "\n",
    "r = session.get(url + params)"
   ]
  },
  {
   "cell_type": "code",
   "execution_count": 4,
   "metadata": {},
   "outputs": [
    {
     "data": {
      "text/plain": [
       "['13F-HR 1862931 Advisory Services & Investments, LLC',\n",
       " '13F-HR/A 1453072 Alyeska Investment Group, L.P.',\n",
       " '13F-HR 1769288 Atwater Malick LLC',\n",
       " '13F-HR 1654599 BEACON INVESTMENT ADVISORY SERVICES, INC.',\n",
       " '13F-HR/A 1714678 Beaton Management Co. Inc.',\n",
       " '13F-HR/A 1691982 Bowie Capital Management, LLC',\n",
       " '13F-HR 1849561 CHILDRESS CAPITAL ADVISORS, LLC',\n",
       " '13F-HR/A 1423053 CITADEL ADVISORS LLC',\n",
       " '13F-HR/A 1423053 CITADEL ADVISORS LLC',\n",
       " '13F-HR 1080628 COLONY GROUP LLC',\n",
       " '13F-HR 1863523 CSM Advisors, LLC',\n",
       " '13F-HR/A 1389403 Chou Associates Management Inc.',\n",
       " '13F-HR/A 1732687 Factorial Partners, LLC',\n",
       " '13F-HR 1844719 First Round Capital Management III, LLC',\n",
       " '13F-HR 1766504 GREENLEA LANE CAPITAL MANAGEMENT, LLC',\n",
       " '13F-HR/A 1604350 Glendon Capital Management LP',\n",
       " '13F-HR/A 1164688 OAK HILL ADVISORS LP',\n",
       " '13F-HR 1665518 PHYSICIANS FINANCIAL SERVICES, INC.',\n",
       " '13F-HR 1566887 Ratan Capital Management LP',\n",
       " '13F-HR 1853019 Rollins Financial',\n",
       " '13F-HR 1325261 STONNINGTON GROUP, LLC',\n",
       " '13F-HR/A 1858740 Spire Wealth Management']"
      ]
     },
     "execution_count": 4,
     "metadata": {},
     "output_type": "execute_result"
    }
   ],
   "source": [
    "# clean data\n",
    "\n",
    "# find relevant text\n",
    "text = r.html.find('pre', first=True).text\n",
    "\n",
    "# extract the date of the filings\n",
    "date = text[:100].split()[7]\n",
    "\n",
    "# turn data into complete items\n",
    "filings = text.replace(date, '').split('\\n ')[-1].split('  ')\n",
    "filings"
   ]
  },
  {
   "cell_type": "code",
   "execution_count": 5,
   "metadata": {},
   "outputs": [
    {
     "data": {
      "text/plain": [
       "('Advisory Services & Investments, LLC', '1862931', '13F-HR')"
      ]
     },
     "execution_count": 5,
     "metadata": {},
     "output_type": "execute_result"
    }
   ],
   "source": [
    "# test the cleaning\n",
    "\n",
    "# split into items, get 1 item\n",
    "entry = text.replace(date, '').split('\\n ')[-1].split('  ')[0]\n",
    "\n",
    "# the filing type is the 1st item\n",
    "filtype = entry.split()[0]\n",
    "\n",
    "# cik is the 2nd item\n",
    "cik = entry.split()[1]\n",
    "\n",
    "# the name is all other items joined with spaces\n",
    "name = ' '.join(entry.split()[2:])\n",
    "\n",
    "# let's take a look\n",
    "name, cik, filtype"
   ]
  },
  {
   "cell_type": "code",
   "execution_count": 6,
   "metadata": {},
   "outputs": [],
   "source": [
    "# we're good, create a dictionary\n",
    "\n",
    "firms = {'CIK': [filing.split()[1].zfill(10) for filing in filings],\n",
    "        'Name': [' '.join(filing.split()[2:]) for filing in filings],\n",
    "        'Type': [filing.split()[0] for filing in filings]}"
   ]
  },
  {
   "cell_type": "code",
   "execution_count": 7,
   "metadata": {},
   "outputs": [
    {
     "data": {
      "text/html": [
       "<div>\n",
       "<style scoped>\n",
       "    .dataframe tbody tr th:only-of-type {\n",
       "        vertical-align: middle;\n",
       "    }\n",
       "\n",
       "    .dataframe tbody tr th {\n",
       "        vertical-align: top;\n",
       "    }\n",
       "\n",
       "    .dataframe thead th {\n",
       "        text-align: right;\n",
       "    }\n",
       "</style>\n",
       "<table border=\"1\" class=\"dataframe\">\n",
       "  <thead>\n",
       "    <tr style=\"text-align: right;\">\n",
       "      <th></th>\n",
       "      <th>CIK</th>\n",
       "      <th>Name</th>\n",
       "      <th>Type</th>\n",
       "    </tr>\n",
       "  </thead>\n",
       "  <tbody>\n",
       "    <tr>\n",
       "      <th>0</th>\n",
       "      <td>0001862931</td>\n",
       "      <td>Advisory Services &amp; Investments, LLC</td>\n",
       "      <td>13F-HR</td>\n",
       "    </tr>\n",
       "    <tr>\n",
       "      <th>1</th>\n",
       "      <td>0001453072</td>\n",
       "      <td>Alyeska Investment Group, L.P.</td>\n",
       "      <td>13F-HR/A</td>\n",
       "    </tr>\n",
       "    <tr>\n",
       "      <th>2</th>\n",
       "      <td>0001769288</td>\n",
       "      <td>Atwater Malick LLC</td>\n",
       "      <td>13F-HR</td>\n",
       "    </tr>\n",
       "    <tr>\n",
       "      <th>3</th>\n",
       "      <td>0001654599</td>\n",
       "      <td>BEACON INVESTMENT ADVISORY SERVICES, INC.</td>\n",
       "      <td>13F-HR</td>\n",
       "    </tr>\n",
       "    <tr>\n",
       "      <th>4</th>\n",
       "      <td>0001714678</td>\n",
       "      <td>Beaton Management Co. Inc.</td>\n",
       "      <td>13F-HR/A</td>\n",
       "    </tr>\n",
       "  </tbody>\n",
       "</table>\n",
       "</div>"
      ],
      "text/plain": [
       "          CIK                                       Name      Type\n",
       "0  0001862931       Advisory Services & Investments, LLC    13F-HR\n",
       "1  0001453072             Alyeska Investment Group, L.P.  13F-HR/A\n",
       "2  0001769288                         Atwater Malick LLC    13F-HR\n",
       "3  0001654599  BEACON INVESTMENT ADVISORY SERVICES, INC.    13F-HR\n",
       "4  0001714678                 Beaton Management Co. Inc.  13F-HR/A"
      ]
     },
     "execution_count": 7,
     "metadata": {},
     "output_type": "execute_result"
    }
   ],
   "source": [
    "# take a look at it as a dataframe\n",
    "\n",
    "df = pd.DataFrame(firms)\n",
    "df.head()"
   ]
  },
  {
   "cell_type": "code",
   "execution_count": null,
   "metadata": {},
   "outputs": [],
   "source": [
    "# we've run a loop for the 1st page, now do this for 85 days\n",
    "# this way, we cover a quarter and should have the CIK codes\n",
    "# of every investor filing a 13F\n",
    "\n",
    "url = 'https://www.sec.gov/cgi-bin/current?'\n",
    "\n",
    "for page in range(2,85):\n",
    "    \n",
    "    params = f\"q1={page}&q2=0&q3=13F-HR\"\n",
    "    r = session.get(url + params)\n",
    "    time.sleep(0.11)\n",
    "    \n",
    "    try:\n",
    "        text = r.html.find('pre', first=True).text\n",
    "        date = text[:100].split()[7]\n",
    "        filings = text.replace(date, '').split('\\n ')[-1].split('  ')\n",
    "\n",
    "        firms = {'CIK': [filing.split()[1].zfill(10) for filing in filings],\n",
    "                'Name': [' '.join(filing.split()[2:]) for filing in filings],\n",
    "                'Type': [filing.split()[0] for filing in filings]}\n",
    "        df = df.append(pd.DataFrame(firms), ignore_index=True)\n",
    "    except:\n",
    "        print(f'No fillings on {date}, or other error')"
   ]
  },
  {
   "cell_type": "code",
   "execution_count": null,
   "metadata": {},
   "outputs": [],
   "source": [
    "# check how many unique CIK's we got\n",
    "\n",
    "len(df['CIK'].unique())"
   ]
  },
  {
   "cell_type": "code",
   "execution_count": null,
   "metadata": {},
   "outputs": [],
   "source": [
    "# drop duplicates and save as a csv for further analysis\n",
    "\n",
    "df.drop_duplicates('CIK').drop(columns='Type').to_csv('../datasets/cikList.csv')"
   ]
  }
 ],
 "metadata": {
  "kernelspec": {
   "display_name": "Python 3",
   "language": "python",
   "name": "python3"
  },
  "language_info": {
   "codemirror_mode": {
    "name": "ipython",
    "version": 3
   },
   "file_extension": ".py",
   "mimetype": "text/x-python",
   "name": "python",
   "nbconvert_exporter": "python",
   "pygments_lexer": "ipython3",
   "version": "3.8.8"
  }
 },
 "nbformat": 4,
 "nbformat_minor": 4
}
