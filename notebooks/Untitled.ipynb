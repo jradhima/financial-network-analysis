{
 "cells": [
  {
   "cell_type": "code",
   "execution_count": 1,
   "metadata": {},
   "outputs": [],
   "source": [
    "import pandas as pd"
   ]
  },
  {
   "cell_type": "code",
   "execution_count": 2,
   "metadata": {},
   "outputs": [
    {
     "data": {
      "text/html": [
       "<div>\n",
       "<style scoped>\n",
       "    .dataframe tbody tr th:only-of-type {\n",
       "        vertical-align: middle;\n",
       "    }\n",
       "\n",
       "    .dataframe tbody tr th {\n",
       "        vertical-align: top;\n",
       "    }\n",
       "\n",
       "    .dataframe thead th {\n",
       "        text-align: right;\n",
       "    }\n",
       "</style>\n",
       "<table border=\"1\" class=\"dataframe\">\n",
       "  <thead>\n",
       "    <tr style=\"text-align: right;\">\n",
       "      <th></th>\n",
       "      <th>Unnamed: 0</th>\n",
       "      <th>cusip</th>\n",
       "      <th>value_x</th>\n",
       "      <th>amount</th>\n",
       "      <th>put_or_call</th>\n",
       "      <th>owner</th>\n",
       "      <th>cik</th>\n",
       "      <th>report_date</th>\n",
       "      <th>value_y</th>\n",
       "    </tr>\n",
       "  </thead>\n",
       "  <tbody>\n",
       "    <tr>\n",
       "      <th>0</th>\n",
       "      <td>0</td>\n",
       "      <td>88579Y101</td>\n",
       "      <td>1487.0</td>\n",
       "      <td>8430.0</td>\n",
       "      <td>No</td>\n",
       "      <td>Wellington Shields Capital Management, LLC</td>\n",
       "      <td>1506071</td>\n",
       "      <td>2019-12-31</td>\n",
       "      <td>650736.0</td>\n",
       "    </tr>\n",
       "    <tr>\n",
       "      <th>1</th>\n",
       "      <td>1</td>\n",
       "      <td>000375204</td>\n",
       "      <td>1959.0</td>\n",
       "      <td>81300.0</td>\n",
       "      <td>No</td>\n",
       "      <td>Wellington Shields Capital Management, LLC</td>\n",
       "      <td>1506071</td>\n",
       "      <td>2019-12-31</td>\n",
       "      <td>650736.0</td>\n",
       "    </tr>\n",
       "    <tr>\n",
       "      <th>2</th>\n",
       "      <td>2</td>\n",
       "      <td>002824100</td>\n",
       "      <td>2451.0</td>\n",
       "      <td>28218.0</td>\n",
       "      <td>No</td>\n",
       "      <td>Wellington Shields Capital Management, LLC</td>\n",
       "      <td>1506071</td>\n",
       "      <td>2019-12-31</td>\n",
       "      <td>650736.0</td>\n",
       "    </tr>\n",
       "    <tr>\n",
       "      <th>3</th>\n",
       "      <td>3</td>\n",
       "      <td>00287Y109</td>\n",
       "      <td>2163.0</td>\n",
       "      <td>24435.0</td>\n",
       "      <td>No</td>\n",
       "      <td>Wellington Shields Capital Management, LLC</td>\n",
       "      <td>1506071</td>\n",
       "      <td>2019-12-31</td>\n",
       "      <td>650736.0</td>\n",
       "    </tr>\n",
       "    <tr>\n",
       "      <th>4</th>\n",
       "      <td>4</td>\n",
       "      <td>G1151C101</td>\n",
       "      <td>4646.0</td>\n",
       "      <td>22062.0</td>\n",
       "      <td>No</td>\n",
       "      <td>Wellington Shields Capital Management, LLC</td>\n",
       "      <td>1506071</td>\n",
       "      <td>2019-12-31</td>\n",
       "      <td>650736.0</td>\n",
       "    </tr>\n",
       "  </tbody>\n",
       "</table>\n",
       "</div>"
      ],
      "text/plain": [
       "   Unnamed: 0      cusip  value_x   amount put_or_call  \\\n",
       "0           0  88579Y101   1487.0   8430.0          No   \n",
       "1           1  000375204   1959.0  81300.0          No   \n",
       "2           2  002824100   2451.0  28218.0          No   \n",
       "3           3  00287Y109   2163.0  24435.0          No   \n",
       "4           4  G1151C101   4646.0  22062.0          No   \n",
       "\n",
       "                                        owner      cik report_date   value_y  \n",
       "0  Wellington Shields Capital Management, LLC  1506071  2019-12-31  650736.0  \n",
       "1  Wellington Shields Capital Management, LLC  1506071  2019-12-31  650736.0  \n",
       "2  Wellington Shields Capital Management, LLC  1506071  2019-12-31  650736.0  \n",
       "3  Wellington Shields Capital Management, LLC  1506071  2019-12-31  650736.0  \n",
       "4  Wellington Shields Capital Management, LLC  1506071  2019-12-31  650736.0  "
      ]
     },
     "execution_count": 2,
     "metadata": {},
     "output_type": "execute_result"
    }
   ],
   "source": [
    "df = pd.read_csv('filingsEnd2019.csv')\n",
    "#df['issuer'] = df['cusip'].apply(lambda x: x[:6])\n",
    "\n",
    "totalValue = df.groupby('owner')['value'].sum()\n",
    "\n",
    "df = df.merge(totalValue, how='left', left_on='owner', right_index=True)\n",
    "df.head()"
   ]
  },
  {
   "cell_type": "code",
   "execution_count": 3,
   "metadata": {},
   "outputs": [],
   "source": [
    "mask = df['value_x'] == 0\n",
    "df = df[~mask]"
   ]
  },
  {
   "cell_type": "code",
   "execution_count": 4,
   "metadata": {},
   "outputs": [],
   "source": [
    "df['sh_price'] = df['value_x'] / df['amount'] * 1000"
   ]
  },
  {
   "cell_type": "code",
   "execution_count": 6,
   "metadata": {},
   "outputs": [
    {
     "data": {
      "text/plain": [
       "205593        29.439490\n",
       "180152       157.746895\n",
       "195538       197.975965\n",
       "306373       221.782178\n",
       "308757       223.932512\n",
       "              ...      \n",
       "45138     293650.000645\n",
       "50936     293650.001200\n",
       "50931     293650.001473\n",
       "50930     293650.020075\n",
       "288794    324869.968764\n",
       "Name: sh_price, Length: 645, dtype: float64"
      ]
     },
     "execution_count": 6,
     "metadata": {},
     "output_type": "execute_result"
    }
   ],
   "source": [
    "df[df['cusip'] == '037833100']['sh_price'].sort_values()"
   ]
  },
  {
   "cell_type": "code",
   "execution_count": null,
   "metadata": {},
   "outputs": [],
   "source": [
    "grouped"
   ]
  },
  {
   "cell_type": "code",
   "execution_count": null,
   "metadata": {},
   "outputs": [],
   "source": []
  },
  {
   "cell_type": "code",
   "execution_count": null,
   "metadata": {},
   "outputs": [],
   "source": []
  },
  {
   "cell_type": "code",
   "execution_count": null,
   "metadata": {},
   "outputs": [],
   "source": []
  },
  {
   "cell_type": "code",
   "execution_count": null,
   "metadata": {},
   "outputs": [],
   "source": [
    "investment = df.groupby(['cik']).agg({'value_y':'mean'})"
   ]
  },
  {
   "cell_type": "code",
   "execution_count": null,
   "metadata": {},
   "outputs": [],
   "source": [
    "mask = investment['value_y'] == 0\n",
    "investment = investment[~mask].sort_values(by='value_y')\n",
    "investment"
   ]
  },
  {
   "cell_type": "code",
   "execution_count": null,
   "metadata": {},
   "outputs": [],
   "source": [
    "investment[20:50]"
   ]
  }
 ],
 "metadata": {
  "kernelspec": {
   "display_name": "Python 3",
   "language": "python",
   "name": "python3"
  },
  "language_info": {
   "codemirror_mode": {
    "name": "ipython",
    "version": 3
   },
   "file_extension": ".py",
   "mimetype": "text/x-python",
   "name": "python",
   "nbconvert_exporter": "python",
   "pygments_lexer": "ipython3",
   "version": "3.8.8"
  }
 },
 "nbformat": 4,
 "nbformat_minor": 4
}
